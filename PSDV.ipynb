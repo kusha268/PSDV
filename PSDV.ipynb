{
 "cells": [
  {
   "cell_type": "code",
   "execution_count": 2,
   "id": "c930bc7e-186f-43f3-8ffa-4e6d4871650e",
   "metadata": {},
   "outputs": [
    {
     "name": "stdout",
     "output_type": "stream",
     "text": [
      "[1, 2, 3, 4, 5, 6, 7, 8, 9, 10, 11, 12, 13, 14, 15, 16, 17, 18, 19, 20]\n",
      "Sum of even integres: 110\n",
      "Sum of odd integres: 100\n",
      "10.5\n",
      "Median: 10.5\n",
      "Standard Deviation: 5.916079783099616\n"
     ]
    }
   ],
   "source": [
    "#List Operations and Basic Statistics:\n",
    "l1=[ x for x in range(1,21)]\n",
    "print(l1)\n",
    "s=0\n",
    "odd_sum=0\n",
    "for i in l1:\n",
    "    if i%2==0:\n",
    "        s=s+i\n",
    "    else:\n",
    "        odd_sum+=i\n",
    "print(\"Sum of even integres:\",s) \n",
    "print(\"Sum of odd integres:\",odd_sum) \n",
    "mean=sum(l1)/len(l1)\n",
    "print(mean)\n",
    "l1.sort()\n",
    "n=len(l1)\n",
    "if n%2==1:\n",
    "    median=l1[n//2]\n",
    "else:\n",
    "     median=(l1[n//2 -1]+l1[n//2])/2\n",
    "print(\"Median:\",median)\n",
    "import statistics\n",
    "std_dev=statistics.stdev(l1)\n",
    "print(\"Standard Deviation:\",std_dev)"
   ]
  },
  {
   "cell_type": "code",
   "execution_count": 1,
   "id": "8499c0db-7518-485b-8e59-09efa89c8175",
   "metadata": {},
   "outputs": [
    {
     "name": "stdout",
     "output_type": "stream",
     "text": [
      "Mutable objects can be changed after they are created.\n",
      "[10, 2, 3]\n",
      "Immutable objects cannot be changed after they are created.\n",
      "If we try to modify an immutable object, a new object will be created instead.\n",
      "Hello\n"
     ]
    }
   ],
   "source": [
    "print(\"Mutable objects can be changed after they are created.\")\n",
    "my_list = [1, 2, 3]\n",
    "my_list[0] = 10  \n",
    "print(my_list)\n",
    "print(\"Immutable objects cannot be changed after they are created.\")\n",
    "print(\"If we try to modify an immutable object, a new object will be created instead.\")\n",
    "my_str = \"hello\"\n",
    "# my_str[0] = \"H\"  # This will raise a TypeError\n",
    "my_str = \"Hello\"  # A new string is created instead\n",
    "print(my_str) "
   ]
  },
  {
   "cell_type": "code",
   "execution_count": 3,
   "id": "ec037677-8f17-4374-a775-384ce45f22fd",
   "metadata": {},
   "outputs": [
    {
     "data": {
      "image/png": "[encoded data removed]",
      "text/plain": [
       "<Figure size 640x480 with 1 Axes>"
      ]
     },
     "metadata": {},
     "output_type": "display_data"
    }
   ],
   "source": [
    "#Fibonacci Sequence:\n",
    "def fibonacci(n):\n",
    "    fib_sequence = [0, 1]\n",
    "    for i in range(2, n):\n",
    "        fib_sequence.append(fib_sequence[-1] + fib_sequence[-2])\n",
    "    return fib_sequence[:n]\n",
    "import matplotlib.pyplot as plt\n",
    "plt.plot(range(n), fibonacci(20), marker='o', color='b', linestyle='-', markersize=5)\n",
    "plt.title('Fibonacci Sequence')\n",
    "plt.xlabel('Index')\n",
    "plt.ylabel('Fibonacci Number')\n",
    "plt.grid(True)\n",
    "plt.show()\n"
   ]
  },
  {
   "cell_type": "code",
   "execution_count": 4,
   "id": "1e305897-fea4-403c-b610-b6ac11e7d7bc",
   "metadata": {},
   "outputs": [
    {
     "name": "stdout",
     "output_type": "stream",
     "text": [
      "[3, 5, 7, 6, 9, 11, 13]\n",
      "[3, 5, 6, 9, 11, 13]\n",
      "[13, 11, 9, 6, 5, 3]\n",
      "The mean of the list is: 7.833333333333333\n",
      "Median of the modified list is : 7.5\n"
     ]
    }
   ],
   "source": [
    "#List Manipulation\n",
    "L=[3,5,7,9,11,13]\n",
    "L.insert(3,6)\n",
    "print(L)\n",
    "L.remove(7)\n",
    "print(L)\n",
    "L.reverse()\n",
    "print(L)\n",
    "import statistics\n",
    "print(\"The mean of the list is:\",statistics.mean(L))\n",
    "print(\"Median of the modified list is :\",statistics.median(L))"
   ]
  },
  {
   "cell_type": "code",
   "execution_count": null,
   "id": "c1d8d3d9-a584-4b52-b649-4297a2b02556",
   "metadata": {},
   "outputs": [],
   "source": [
    "#User input and Basic Statistics\n",
    "import matplotlib.pyplot as plt\n",
    "import statistics\n",
    "k=list(map(int,input().split(\",\")))\n",
    "print(\"The list of number :\",k)\n",
    "print(\"The mean is\" ,statistics.mean(k))\n",
    "print(\"The smallest number is\",min(k))\n",
    "print(\"The largest number is\",max(k))\n",
    "plt.hist(k)\n",
    "plt.xlabel(\"Numbers\")\n",
    "plt.ylabel(\"Frequency\")\n",
    "plt.title(\"Histogram\")\n",
    "plt.show()"
   ]
  },
  {
   "cell_type": "code",
   "execution_count": null,
   "id": "a2ca9d83-1906-404b-9e66-f7f52e93e1be",
   "metadata": {},
   "outputs": [],
   "source": [
    "#Palindrome Check:\n",
    "x=\"A man a plan a canal Panama\"\n",
    "y=a.lower()\n",
    "z=y.replace(\" \",\"\")\n",
    "if z==z[::-1]:\n",
    "    print(\"True\")\n",
    "else:\n",
    "    print(\"Not palindrome\")"
   ]
  },
  {
   "cell_type": "code",
   "execution_count": null,
   "id": "b8384b2a-5245-445c-a593-161f4da36449",
   "metadata": {},
   "outputs": [],
   "source": [
    "#Dictionary Operations\n",
    "d={\"Kushal\":85,\"Ramesh\":73,\"Mahesh\":95,\"Deepak\":90}\n",
    "avg_mark=sum(d.values())/len(d)\n",
    "print('the average mark is ',avg_mark)\n",
    "m=d.items()\n",
    "for i in m:\n",
    "    if i[1]>avg_mark:\n",
    "        print(i[0],end=',')"
   ]
  },
  {
   "cell_type": "code",
   "execution_count": null,
   "id": "97af3cbc-4fe1-410f-91ec-e74c0c7b6f24",
   "metadata": {},
   "outputs": [],
   "source": [
    "#Tuple List Creation\n",
    "l=[(x,x*x) for x in range(1,11)]\n",
    "\n",
    "# plotting the graph:\n",
    "x=[i[0] for i in l]\n",
    "y=[i[1] for i in l]\n",
    "plt.scatter(x,y)\n",
    "plt.show()"
   ]
  },
  {
   "cell_type": "code",
   "execution_count": null,
   "id": "48e144d1-7b50-45dd-b474-20deeccaefc8",
   "metadata": {},
   "outputs": [],
   "source": [
    "#Merging Dictionaeries\n",
    "d1={'a':20,'b':30}\n",
    "print(\"d1\",d1)\n",
    "d2={'b':5,'c':15}\n",
    "print(\"d2\",d2)\n",
    "d3=d1\n",
    "for i,j in d2.items():\n",
    "    if i in d3:\n",
    "        d3[i]+=j\n",
    "    else:\n",
    "        d3[i]=j\n",
    "print(\"output\",d3)"
   ]
  },
  {
   "cell_type": "code",
   "execution_count": null,
   "id": "f999e18a-df08-4153-b54e-37f43f335cc5",
   "metadata": {},
   "outputs": [],
   "source": [
    "#Character Frequency\n",
    "from matplotlib import pyplot as plt\n",
    "sen=input().lower()\n",
    "data={}\n",
    "for i in sen:\n",
    "    if i.isalpha():\n",
    "        if i in data:\n",
    "            data[i]+=1\n",
    "        else:\n",
    "            data[i]=1\n",
    "print(data)\n",
    "x=data.keys()\n",
    "y=data.values()\n",
    "plt.xlabel(\"character\")\n",
    "plt.ylabel(\"frequency\")\n",
    "plt.bar(x,y,color=\"blue\")\n",
    "plt.show()"
   ]
  },
  {
   "cell_type": "code",
   "execution_count": null,
   "id": "177814d2-f87e-44f2-b96b-76d159d1cb12",
   "metadata": {},
   "outputs": [],
   "source": [
    "#string Operations:\n",
    "m=eval(input())\n",
    "z=\"\"\n",
    "c=0\n",
    "vowel=['a','e','i','o','u','A','E']\n",
    "for i in m:\n",
    "    if len(i)>len(a):\n",
    "        a=1\n",
    "    if i[0] in vowel:\n",
    "        c+=1\n",
    "print()\n",
    "print(\"The longest string is\",z)\n",
    "print(\"The number of string that start withg vowel is \"c)\n"
   ]
  },
  {
   "cell_type": "code",
   "execution_count": null,
   "id": "827e7100-4c7d-445f-b8f1-6de8eeed0722",
   "metadata": {},
   "outputs": [],
   "source": [
    "#Anagram Finder\n",
    "word=input()\n",
    "words=eval(input())\n",
    "temp=[i for i in word]\n",
    "temp.sort()\n",
    "data=[temp]\n",
    "output=[]\n",
    "for i in words:\n",
    "    letters=[j for j in i.lower()]\n",
    "    letters.sort()\n",
    "    if letters in data:\n",
    "        output.append(i)\n",
    "    else:\n",
    "        data.append(letters)\n",
    "print(output)\n"
   ]
  },
  {
   "cell_type": "code",
   "execution_count": null,
   "id": "c95f1dd2-a8f3-47c3-9e66-4302d6b7779a",
   "metadata": {},
   "outputs": [],
   "source": [
    "#Word filtering and Sorting\n",
    "l14=[]\n",
    "a14=input()\n",
    "b14=a14.split()\n",
    "for i in b14:\n",
    "    if len(i)>4:\n",
    "        l14.append(i)\n",
    "l14.sort()\n",
    "print(l14)"
   ]
  },
  {
   "cell_type": "code",
   "execution_count": null,
   "id": "96bf4708-0331-4c44-b7f6-b5752943418f",
   "metadata": {},
   "outputs": [],
   "source": [
    "#File Operations\n",
    "f=open(\"file.txt\",\"x+\")\n",
    "f.write(\"1\\n\")\n",
    "f.write(\"2\\n\")\n",
    "f.write(\"3\\n\")\n",
    "f.close()\n",
    "with open(\"file.txt\",\"r\") as f:\n",
    "    l=f.readlines()\n",
    "    sum=sum(int(i.strip()) for i in l)\n",
    "print(f\"sum: {sum}\")"
   ]
  },
  {
   "cell_type": "code",
   "execution_count": null,
   "id": "8b8029fc-77ed-490d-a542-73a54e5d19b8",
   "metadata": {},
   "outputs": [],
   "source": [
    "#Basic Statistics\n",
    "from matplotlib import pyplot as plt\n",
    "import statistics\n",
    "l=[17, 42, 89, 5, 34, 76, 23, 58, 11, 91, 67, 3, 54, 29, 83, 12, 47, 99, 62, 40]\n",
    "print(f\"mean: {statistics.mean(l)}\")\n",
    "print(f\"median: {statistics.median(l)}\")\n",
    "print(f\"mode: {statistics.mode(l)}\")\n",
    "print(f\"standard deviation: {statistics.stdev(l):.2f}\")\n",
    "\n",
    "plt.boxplot(l,vert=False)\n",
    "plt.show()"
   ]
  },
  {
   "cell_type": "code",
   "execution_count": null,
   "id": "7efc05cf-e921-403d-ba02-b5a0b9d9c5ec",
   "metadata": {},
   "outputs": [],
   "source": [
    "#Even or Odd:\n",
    "n=int(input())\n",
    "if n%2==0:\n",
    "    print(\"Entered number is Even\")\n",
    "else:\n",
    "    print(\"Entered number is Odd\")"
   ]
  },
  {
   "cell_type": "code",
   "execution_count": null,
   "id": "ff6122d5-35e6-4796-bb2f-c6054e1f04e0",
   "metadata": {},
   "outputs": [],
   "source": [
    "#Grade Calculator:\n",
    "n=int(input())\n",
    "if n<0 or n>100:\n",
    "    print(\"Invalid input!\")\n",
    "elif n>=90:\n",
    "    print(\"Grade: A\")\n",
    "elif n>=80:\n",
    "    print(\"Grade: B\")\n",
    "elif n>=70:\n",
    "    print(\"Grade: C\")\n",
    "elif n>=60:\n",
    "    print(\"Grade: D\")\n",
    "else:\n",
    "    print(\"Grade: F\")"
   ]
  },
  {
   "cell_type": "code",
   "execution_count": null,
   "id": "e4520e9a-fd32-4037-869d-b319843c9690",
   "metadata": {},
   "outputs": [],
   "source": [
    "#Leap Year Checker:\n",
    "def is_leap_year(year):\n",
    "    if (year % 4 == 0 and year % 100 != 0) or (year % 400 == 0):\n",
    "        return True\n",
    "    else:\n",
    "        return False\n",
    "\n",
    "year = int(input(\"Enter a year: \"))\n",
    "\n",
    "if is_leap_year(year):\n",
    "    print(f\"{year} is a leap year.\")\n",
    "else:\n",
    "    print(f\"{year} is not a leap year.\")"
   ]
  }
 ],
 "metadata": {
  "kernelspec": {
   "display_name": "Python 3 (ipykernel)",
   "language": "python",
   "name": "python3"
  },
  "language_info": {
   "codemirror_mode": {
    "name": "ipython",
    "version": 3
   },
   "file_extension": ".py",
   "mimetype": "text/x-python",
   "name": "python",
   "nbconvert_exporter": "python",
   "pygments_lexer": "ipython3",
   "version": "3.13.1"
  }
 },
 "nbformat": 4,
 "nbformat_minor": 5
}
